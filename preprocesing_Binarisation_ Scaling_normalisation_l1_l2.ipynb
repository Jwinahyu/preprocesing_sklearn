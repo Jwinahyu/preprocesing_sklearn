{
 "cells": [
  {
   "cell_type": "markdown",
   "id": "a9885ddb",
   "metadata": {},
   "source": [
    "Preprocessing data"
   ]
  },
  {
   "cell_type": "code",
   "execution_count": 3,
   "id": "7f0c677c",
   "metadata": {},
   "outputs": [
    {
     "data": {
      "text/plain": [
       "array([[  3.5, -10.2,   4.5],\n",
       "       [  5.5,   4.2,   3.3],\n",
       "       [  0.6,   0.3,   3. ]])"
      ]
     },
     "execution_count": 3,
     "metadata": {},
     "output_type": "execute_result"
    }
   ],
   "source": [
    "import numpy as np\n",
    "from sklearn import preprocessing #modul preprocessing\n",
    "\n",
    "sample_data = np.array([[3.5, -10.2, 4.5], #data akan di generate menjadi numpy array\n",
    "                      [5.5, 4.2, 3.3],\n",
    "                      [0.6, 0.3, 3.0]])\n",
    "sample_data"
   ]
  },
  {
   "cell_type": "markdown",
   "id": "37b1e6ca",
   "metadata": {},
   "source": [
    "row = instance\n",
    "col = fitures"
   ]
  },
  {
   "cell_type": "code",
   "execution_count": 4,
   "id": "35270d58",
   "metadata": {},
   "outputs": [
    {
     "data": {
      "text/plain": [
       "(3, 3)"
      ]
     },
     "execution_count": 4,
     "metadata": {},
     "output_type": "execute_result"
    }
   ],
   "source": [
    "sample_data.shape"
   ]
  },
  {
   "cell_type": "markdown",
   "id": "6d3243d1",
   "metadata": {},
   "source": [
    "# binarisation"
   ]
  },
  {
   "cell_type": "code",
   "execution_count": 6,
   "id": "ea7a5a59",
   "metadata": {},
   "outputs": [
    {
     "data": {
      "text/plain": [
       "array([[  3.5, -10.2,   4.5],\n",
       "       [  5.5,   4.2,   3.3],\n",
       "       [  0.6,   0.3,   3. ]])"
      ]
     },
     "execution_count": 6,
     "metadata": {},
     "output_type": "execute_result"
    }
   ],
   "source": [
    "sample_data"
   ]
  },
  {
   "cell_type": "code",
   "execution_count": 24,
   "id": "4b6164a6",
   "metadata": {},
   "outputs": [
    {
     "data": {
      "text/plain": [
       "array([[1., 0., 1.],\n",
       "       [1., 1., 1.],\n",
       "       [1., 0., 1.]])"
      ]
     },
     "execution_count": 24,
     "metadata": {},
     "output_type": "execute_result"
    }
   ],
   "source": [
    "preprocessor = preprocessing.Binarizer(threshold=0.5)\n",
    "binarised = preprocessor.transform(sample_data)\n",
    "binarised"
   ]
  },
  {
   "cell_type": "markdown",
   "id": "21d41988",
   "metadata": {},
   "source": [
    "nilai yang <= thresold maka = 0 "
   ]
  },
  {
   "cell_type": "code",
   "execution_count": 10,
   "id": "beaf022a",
   "metadata": {},
   "outputs": [
    {
     "data": {
      "text/plain": [
       "array([[  3.5, -10.2,   4.5],\n",
       "       [  5.5,   4.2,   3.3],\n",
       "       [  0.6,   0.3,   3. ]])"
      ]
     },
     "execution_count": 10,
     "metadata": {},
     "output_type": "execute_result"
    }
   ],
   "source": [
    "sample_data"
   ]
  },
  {
   "cell_type": "code",
   "execution_count": 28,
   "id": "f4c6bef7",
   "metadata": {},
   "outputs": [
    {
     "data": {
      "text/plain": [
       "array([[0.59183673, 0.        , 1.        ],\n",
       "       [1.        , 1.        , 0.2       ],\n",
       "       [0.        , 0.72916667, 0.        ]])"
      ]
     },
     "execution_count": 28,
     "metadata": {},
     "output_type": "execute_result"
    }
   ],
   "source": [
    "preprocesor = preprocessing.MinMaxScaler(feature_range=(0, 1))\n",
    "preprocesor.fit(sample_data)\n",
    "Scaled_data = preprocesor.transform(sample_data)\n",
    "Scaled_data"
   ]
  },
  {
   "cell_type": "markdown",
   "id": "af9d5edd",
   "metadata": {},
   "source": [
    "dari data rentang nilai kecil = -10.2 ->5.5 dan di konversi rentang antara 0 sampai 1 dengan  cara MinMaxScaler. "
   ]
  },
  {
   "cell_type": "markdown",
   "id": "7ea2a8b9",
   "metadata": {},
   "source": [
    "# Normalisation l1"
   ]
  },
  {
   "cell_type": "code",
   "execution_count": 31,
   "id": "b1002908",
   "metadata": {},
   "outputs": [
    {
     "data": {
      "text/plain": [
       "array([[  3.5, -10.2,   4.5],\n",
       "       [  5.5,   4.2,   3.3],\n",
       "       [  0.6,   0.3,   3. ]])"
      ]
     },
     "execution_count": 31,
     "metadata": {},
     "output_type": "execute_result"
    }
   ],
   "source": [
    "sample_data"
   ]
  },
  {
   "cell_type": "code",
   "execution_count": 35,
   "id": "b8eee14b",
   "metadata": {},
   "outputs": [
    {
     "data": {
      "text/plain": [
       "array([[ 0.19230769, -0.56043956,  0.24725275],\n",
       "       [ 0.42307692,  0.32307692,  0.25384615],\n",
       "       [ 0.15384615,  0.07692308,  0.76923077]])"
      ]
     },
     "execution_count": 35,
     "metadata": {},
     "output_type": "execute_result"
    }
   ],
   "source": [
    "l1_normalised_data = preprocessing.normalize(sample_data, norm = 'l1')\n",
    "l1_normalised_data"
   ]
  },
  {
   "cell_type": "markdown",
   "id": "306d056a",
   "metadata": {},
   "source": [
    "parameter norm ='l1' berasosiasi = list absolut deviation."
   ]
  },
  {
   "cell_type": "markdown",
   "id": "3b4d562e",
   "metadata": {},
   "source": [
    "# Normalisation l2"
   ]
  },
  {
   "cell_type": "code",
   "execution_count": 38,
   "id": "5cf4d948",
   "metadata": {},
   "outputs": [
    {
     "data": {
      "text/plain": [
       "array([[  3.5, -10.2,   4.5],\n",
       "       [  5.5,   4.2,   3.3],\n",
       "       [  0.6,   0.3,   3. ]])"
      ]
     },
     "execution_count": 38,
     "metadata": {},
     "output_type": "execute_result"
    }
   ],
   "source": [
    "sample_data"
   ]
  },
  {
   "cell_type": "markdown",
   "id": "51a214d7",
   "metadata": {},
   "source": [
    "l2_normalised_data = preprocessing.normalize(sample_data, norm = 'l2')\n",
    "l2_normalised_data"
   ]
  },
  {
   "cell_type": "markdown",
   "id": "ef45ff75",
   "metadata": {},
   "source": [
    "ini adalah hasil normalisation l2 atau least Squares"
   ]
  },
  {
   "cell_type": "code",
   "execution_count": null,
   "id": "37537e55",
   "metadata": {},
   "outputs": [],
   "source": []
  }
 ],
 "metadata": {
  "kernelspec": {
   "display_name": "Python 3",
   "language": "python",
   "name": "python3"
  },
  "language_info": {
   "codemirror_mode": {
    "name": "ipython",
    "version": 3
   },
   "file_extension": ".py",
   "mimetype": "text/x-python",
   "name": "python",
   "nbconvert_exporter": "python",
   "pygments_lexer": "ipython3",
   "version": "3.9.4"
  }
 },
 "nbformat": 4,
 "nbformat_minor": 5
}
